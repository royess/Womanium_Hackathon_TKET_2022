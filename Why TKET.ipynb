{
 "cells": [
  {
   "attachments": {},
   "cell_type": "markdown",
   "id": "d21f2bc2",
   "metadata": {},
   "source": [
    "# Why TKET\n",
    "\n",
    "Transpilation is the process of rewriting a given input circuit to match the topology of a specific quantum device and/or to optimize the circuit for execution on present-day noisy quantum systems.\n",
    "\n",
    "Rewriting quantum circuits to match hardware constraints and optimizing for performance can be far from trivial. Most circuits must undergo a series of transformations that make them compatible with a given target device and optimize them to reduce the effects of noise on the resulting outcomes. The flow of logic in the rewriting toolchain need not be linear and can often have iterative sub-loops, conditional branches, and other complex behaviors. \n",
    "\n",
    "In this short demonstration, I want to show you the difference transpiler passes can make in circuit optimization.\n",
    "\n",
    "We start with a sample chemistry-inspired quantum circuit obtained from the the Jordan-Wigner Mapper for computing the ground state energy of H$_2$. This 4-qubit circuit is a deep circuit. It has 150 gates, 86 layers, and 56 Xnot gates (CX)."
   ]
  },
  {
   "cell_type": "code",
   "execution_count": 21,
   "id": "898185ef",
   "metadata": {},
   "outputs": [
    {
     "name": "stdout",
     "output_type": "stream",
     "text": [
      "Number of gates = 150\n",
      "Circuit depth = 83\n",
      "Number of CX gates = 56\n"
     ]
    }
   ],
   "source": [
    "from pytket.qasm import circuit_from_qasm\n",
    "from pytket.circuit import OpType\n",
    "circ = circuit_from_qasm('H2JordanWignerMapper.qasm')\n",
    "\n",
    "print(f\"Number of gates = {circ.n_gates}\")\n",
    "print(f\"Circuit depth = {circ.depth()}\")\n",
    "print(f\"Number of CX gates = {circ.n_gates_of_type(OpType.CX)}\")"
   ]
  },
  {
   "cell_type": "markdown",
   "id": "1d6e88ee",
   "metadata": {},
   "source": [
    "# Qiskit Preset Pass Managers\n",
    "\n",
    "Let's optimize this circuit using the Qiskit transpiler for the noise profile of IBM' ibmq_manila's device.\n",
    "\n",
    "First, convert the pytket circuit to a Qiskit circuit, load your IBMQ account, and get access to ibmq_manila."
   ]
  },
  {
   "cell_type": "code",
   "execution_count": 22,
   "id": "b6645c11",
   "metadata": {},
   "outputs": [],
   "source": [
    "from pytket.extensions.qiskit import qiskit_to_tk, tk_to_qiskit\n",
    "cq = tk_to_qiskit(circ)"
   ]
  },
  {
   "cell_type": "code",
   "execution_count": 23,
   "id": "35503fee",
   "metadata": {},
   "outputs": [],
   "source": [
    "from qiskit import IBMQ, transpile, QuantumCircuit\n",
    "#from qiskit import QuantumCircuit, QuantumRegister, IBMQ, execute"
   ]
  },
  {
   "cell_type": "code",
   "execution_count": 24,
   "id": "278f93c6",
   "metadata": {},
   "outputs": [
    {
     "name": "stderr",
     "output_type": "stream",
     "text": [
      "ibmqfactory.load_account:WARNING:2022-08-03 14:51:35,274: Credentials are already in use. The existing account in the session will be replaced.\n"
     ]
    }
   ],
   "source": [
    "# load IBMQ Account data\n",
    "\n",
    "# IBMQ.save_account(TOKEN)  # replace TOKEN with your API token string (https://quantum-computing.ibm.com/lab/docs/iql/manage/account/ibmq)\n",
    "provider = IBMQ.load_account()"
   ]
  },
  {
   "cell_type": "code",
   "execution_count": 25,
   "id": "fc5d5496",
   "metadata": {},
   "outputs": [],
   "source": [
    "# Get backend for experiment\n",
    "provider = IBMQ.get_provider(hub='ibm-q')\n",
    "manila = provider.get_backend('ibmq_manila')\n",
    "# properties = manila.properties()"
   ]
  },
  {
   "cell_type": "code",
   "execution_count": 26,
   "id": "f6f62817",
   "metadata": {},
   "outputs": [],
   "source": [
    "# Simulated backend based on ibmq_manila's device noise profile\n",
    "from qiskit.providers.aer import QasmSimulator\n",
    "sim_noisy_manila = QasmSimulator.from_backend(manila)\n"
   ]
  },
  {
   "cell_type": "markdown",
   "id": "e0eb4c92",
   "metadata": {},
   "source": [
    "Now, Qiskit comes with several pre-defined pass managers, corresponding to various optimization levels achieved through different pipelines of passes. Currently, optimization_level 0 through 3 are supported; the higher the number, the more optimized it is, at the expense of more time. Choosing a good pass manager may take trial and error, depending heavily on the circuit being transpiled and the targeted backend.\n",
    "\n",
    "optimization_level=0: just maps the circuit to the backend, with no explicit optimization (except whatever optimizations the mapper does).\n",
    "\n",
    "optimization_level=1: maps the circuit but also does light-weight optimizations by collapsing adjacent gates.\n",
    "\n",
    "optimization_level=2: medium-weight optimization, including a noise-adaptive layout and a gate-cancellation procedure based on gate commutation relationships.\n",
    "\n",
    "optimization_level=3: heavy-weight optimization, which in addition to previous steps, does resynthesis of two-qubit blocks of gates in the circuit."
   ]
  },
  {
   "cell_type": "code",
   "execution_count": 27,
   "id": "2d332e78",
   "metadata": {},
   "outputs": [
    {
     "name": "stdout",
     "output_type": "stream",
     "text": [
      "gates =  OrderedDict([('rz', 73), ('sx', 41), ('cx', 37), ('x', 7)])\n",
      "depth =  78\n"
     ]
    }
   ],
   "source": [
    "optimized_3 = transpile(cq, backend=sim_noisy_manila, seed_transpiler=11, optimization_level=3)\n",
    "print('gates = ', optimized_3.count_ops())\n",
    "print('depth = ', optimized_3.depth())"
   ]
  },
  {
   "cell_type": "markdown",
   "id": "98e58c16",
   "metadata": {},
   "source": [
    "We see that Qiskit's preset pass manager with optimization_level=3 reduced the circuit to 78 layers (from 83). It also reduced the number of CX gates to 37 (from 56) for ibmq_manila."
   ]
  },
  {
   "cell_type": "markdown",
   "id": "3b106ac4",
   "metadata": {},
   "source": [
    "# TKET's Preset Pass Managers\n",
    "\n",
    "Now, let's apply TKET's present pass manager get_compiled_circuit(circuit,optimisation_level). As Qiskit passes, optimisation_level refers to the optimization level performed during compilation.  \n",
    "\n",
    "Level 0 just solves the device constraints without optimising. \n",
    "\n",
    "Level 1 additionally performs some light optimisations. (This level is the default level)\n",
    "\n",
    "Level 2 adds more intensive optimisations that can increase compilation time for large circuits. \n",
    "\n",
    "We will apply the highest preset optimization level, level 2, to the circuit for ibmq_manila."
   ]
  },
  {
   "cell_type": "code",
   "execution_count": 28,
   "id": "8abc9683",
   "metadata": {},
   "outputs": [],
   "source": [
    "from pytket.extensions.qiskit import IBMQEmulatorBackend\n",
    "from qiskit import IBMQ\n",
    "\n",
    "IBM_backend = IBMQEmulatorBackend('ibmq_manila', hub='ibm-q', group='open', project='main')\n",
    "\n",
    "compiled_circIBM = IBM_backend.get_compiled_circuit(circ,2)   #add optimization"
   ]
  },
  {
   "cell_type": "code",
   "execution_count": 29,
   "id": "d7fa1555",
   "metadata": {},
   "outputs": [
    {
     "name": "stdout",
     "output_type": "stream",
     "text": [
      "Circuit depth: 66\n",
      "CX depth:      25\n"
     ]
    }
   ],
   "source": [
    "from pytket.circuit import OpType\n",
    "\n",
    "print('Circuit depth:', compiled_circIBM.depth())\n",
    "print('CX depth:     ', compiled_circIBM.depth_by_type(OpType.CX))"
   ]
  },
  {
   "cell_type": "markdown",
   "id": "67bf9fb3",
   "metadata": {},
   "source": [
    "TKET's highest default optimization pass performed better than Qiskit's highest default pass. TKET reduced the initial 83 layers to 66 and the initial 56 CX gates to 25.\n",
    "\n",
    "### Now in today's NISQ area, this difference in reduction of CX gates can matter, deciding between the success and failure of implementing a circuit on a given backend."
   ]
  },
  {
   "cell_type": "code",
   "execution_count": null,
   "id": "89d41a23",
   "metadata": {},
   "outputs": [],
   "source": []
  }
 ],
 "metadata": {
  "kernelspec": {
   "display_name": "Python 3 (ipykernel)",
   "language": "python",
   "name": "python3"
  },
  "language_info": {
   "codemirror_mode": {
    "name": "ipython",
    "version": 3
   },
   "file_extension": ".py",
   "mimetype": "text/x-python",
   "name": "python",
   "nbconvert_exporter": "python",
   "pygments_lexer": "ipython3",
   "version": "3.9.12"
  }
 },
 "nbformat": 4,
 "nbformat_minor": 5
}
