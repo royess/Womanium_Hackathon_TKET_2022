{
 "cells": [
  {
   "cell_type": "markdown",
   "id": "258ae455",
   "metadata": {},
   "source": [
    "# Access to IonQ, Rigetti and OQC via AWS Braket\n",
    "\n",
    "Amazon Braket is a fully managed quantum computing service that offers access to different types of quantum computing hardware and quantum circuit simulators.\n",
    "\n",
    "AWS Braket serves as a portal to a variety of quantum hardware, currently including:\n",
    " - Quantum annealers (from D-WAVE);\n",
    " - Trapped-ion gate-model devices (from IonQ);\n",
    " - Superconducting gate-model devices (from Rigetti and OQC)\n",
    " - Programmable photonic processor (from XANADU)\n",
    " \n",
    "It also offers access to two powerful simulators: a state-vector simulator with a capacity of 34 qubits, and a tensor-network simulator with a capacity of 50 qubits for suitably sparse circuits.\n",
    "\n",
    "\n",
    "## Get Access to AWS Braket\n",
    "\n",
    "Amazon Braket is part of the AWS Free Tier. The AWS Free Tier gives you one free hour of quantum circuit simulation time per month during the first twelve months of use. This applies to simulation time on SV1, DM1, TN1, or any combination of those three managed quantum circuit simulators, or use of simulators through the Hybrid Jobs feature. Standard rates for incremental usage apply after the free hour has been used. Use of other Amazon Braket resources such as managed notebooks, hybrid job instances, and quantum computers will incur costs.\n",
    "\n",
    "To explore Free Tier products with a new AWS account click [here](https://aws.amazon.com/braket/pricing/?loc=ft#AWS_Free_Tier). Plese read the infromation carefully.\n",
    "\n",
    "To sign up for a free account click [here](https://portal.aws.amazon.com/billing/signup?redirect_url=https%3A%2F%2Faws.amazon.com%2Fregistration-confirmation#/start/email). Note: You will need a credit card to sign up. Amazon states specifically:\"We will not charge you for usage below AWS Free Tier limits. We may temporarily hold up to $1 USD (or an equivalent amount in local currency) as a pending transaction for 3-5 days to verify your identity.\" The sign up process is 5 steps long. At the end choose \"Basic support - Free\" as your plan. Once your sign-up process is completed you will receive confirmation emails. You can now access the \"AWS Management Console\" by signing in as a \"Root User\". Now, for the next 12 months, you'll have free access to core AWS compute, storage, database, and application services within the limits of the [Free Tier](https://aws.amazon.com/braket/pricing/?loc=ft#AWS_Free_Tier).\n",
    "\n",
    "Once you signed into your \"AWS Management Console\" (for me it is https://us-west-1.console.aws.amazon.com/) you can access Amazon Braket's Quantum Technologies by clicking on the orange \"Services\" tab in the top left corner. Scroll down to select \"Quantum Technologies\" and click on \"Amazon Braket\". Now under \"Devices\" you will see all quantum computers Amazon Braket gives you access to.\n",
    "\n",
    "#### Note: We will only need to compile our circuits to a given backend, not run it on the actual computer. So no charges will be needed to be made towards your account!\n"
   ]
  },
  {
   "cell_type": "markdown",
   "id": "9df18a0e",
   "metadata": {},
   "source": [
    "### AWS Access Key ID\n",
    "\n",
    "Access keys are needed to make programmatic calls to AWS from the AWS CLI, Tools for PowerShell, AWS SDKs, or direct AWS API calls. \n",
    "\n",
    "To find/generate your access key (access key ID and secret access key), click on your \"name\" next to \"Global\" tab on top. Here you can see your account ID. The key ID and secret access key are under \"Security credentials\". Click on \"Security credentials\" and then click on \"Access keys (access key ID and secret access key). \n",
    "\n",
    "If you don't have one yet, generate one. Else they will be listed in a table. \n",
    "\n",
    "[From](https://docs.aws.amazon.com/braket/latest/developerguide/braket-devices.html), the device names we can access look like this:"
   ]
  },
  {
   "cell_type": "code",
   "execution_count": 5,
   "id": "4c04ad86",
   "metadata": {},
   "outputs": [],
   "source": [
    "# read aws tokens\n",
    "with open('tokens/rootkey.csv') as file:\n",
    "    lines = file.readlines()\n",
    "    aws_access_key_id = lines[0].split('=')[1].strip()\n",
    "    aws_secret_access_key = lines[1].split('=')[1].strip()"
   ]
  },
  {
   "cell_type": "code",
   "execution_count": 1,
   "id": "52f2ef51",
   "metadata": {},
   "outputs": [],
   "source": [
    "#device = AwsDevice('arn:aws:braket:::device/quantum-simulator/amazon/sv1')              #SV1\n",
    "# device = LocalSimulator()                                                             #Local State Vector Simulator\n",
    "# device = LocalSimulator(\"default\")                                                    #Local State Vector Simulator\n",
    "# device = LocalSimulator(backend=\"default\")                                            #Local State Vector Simulator\n",
    "# device = LocalSimulator(backend=\"braket_sv\")                                          #Local State Vector Simulator\n",
    "# device = LocalSimulator(backend=\"braket_dm\")                                          #Local Density Matrix Simulator\n",
    "# device = AwsDevice('arn:aws:braket:::device/quantum-simulator/amazon/tn1')            #TN1\n",
    "# device = AwsDevice('arn:aws:braket:::device/quantum-simulator/amazon/dm1')            #DM1\n",
    "# device = AwsDevice('arn:aws:braket:::device/qpu/d-wave/DW_2000Q_6')                   #D-Wave 2000Q\n",
    "# device = AwsDevice('arn:aws:braket:::device/qpu/d-wave/Advantage_system4')            #D-Wave Advantage_system4.1\n",
    "# device = AwsDevice('arn:aws:braket:us-west-2::device/qpu/d-wave/Advantage_system6')   #D-Wave Advantage_system6.1\n",
    "# device = AwsDevice('arn:aws:braket:::device/qpu/ionq/ionQdevice')                     #IonQ\n",
    "# device = AwsDevice('arn:aws:braket:::device/qpu/rigetti/Aspen-11')                    #Rigetti Aspen-11\n",
    "# device = AwsDevice('arn:aws:braket:us-west-1::device/qpu/rigetti/Aspen-M-1')          #Rigetti Aspen M-1\n",
    "# device = AwsDevice('arn:aws:braket:eu-west-2::device/qpu/oqc/Lucy')                   #OQC Lucy\n",
    "# device = AwsDevice('arn:aws:braket:us-east-1::device/qpu/xanadu/Borealis')            #Xanadu Borealis\n",
    "\n"
   ]
  },
  {
   "cell_type": "markdown",
   "id": "049797e5",
   "metadata": {},
   "source": [
    "Now, we need to create AWS braket clients for the following regions to get access to gate-based IonQ, Rigetti, and OQC devices."
   ]
  },
  {
   "cell_type": "code",
   "execution_count": 7,
   "id": "1f8ff468",
   "metadata": {},
   "outputs": [],
   "source": [
    "### Creat the AWS braket client\n",
    "\n",
    "import boto3\n",
    "# Create the braket clients\n",
    "\n",
    "#for us east\n",
    "boto_session_east = boto3.Session(\n",
    "    aws_access_key_id=aws_access_key_id,\n",
    "    aws_secret_access_key=aws_secret_access_key,\n",
    "    region_name='us-east-1'\n",
    ")\n",
    "\n",
    "#for eu west\n",
    "boto_session_eu_west = boto3.Session(\n",
    "    aws_access_key_id=aws_access_key_id,\n",
    "    aws_secret_access_key=aws_secret_access_key,\n",
    "    region_name='eu-west-2'\n",
    ")\n",
    "\n",
    "#for us west\n",
    "boto_session_west = boto3.Session(\n",
    "    aws_access_key_id=aws_access_key_id,\n",
    "    aws_secret_access_key=aws_secret_access_key,\n",
    "    region_name='us-west-1'\n",
    ")"
   ]
  },
  {
   "cell_type": "markdown",
   "id": "6b7b8187",
   "metadata": {},
   "source": [
    "## Amazon Braket integration example for pytket\n",
    "\n",
    "Using the `pytket-braket` extension, TKET can use Braket to run circuits on all its gate-model devices and simulators. TKET does not support annealers and photonic processors.\n",
    "\n",
    "Because Braket devices provide detailed calibration data, we can take full advantage of TKET’s noise-aware placement and routing. A TKET device constructed via a `BraketBackend` contains the full error characteristics of the device.\n",
    "\n",
    "### Getting started\n",
    "\n",
    "First, install the latest versions of pytket and pytket-braket:"
   ]
  },
  {
   "cell_type": "code",
   "execution_count": 8,
   "id": "194ebea0",
   "metadata": {},
   "outputs": [],
   "source": [
    "# pip install pytket"
   ]
  },
  {
   "cell_type": "code",
   "execution_count": 9,
   "id": "f05b710b",
   "metadata": {},
   "outputs": [],
   "source": [
    "# pip install pytket-braket"
   ]
  },
  {
   "cell_type": "code",
   "execution_count": 10,
   "id": "efb80972",
   "metadata": {},
   "outputs": [],
   "source": [
    "from pytket.extensions.braket import BraketBackend"
   ]
  },
  {
   "cell_type": "code",
   "execution_count": 11,
   "id": "9a9bed65",
   "metadata": {},
   "outputs": [
    {
     "data": {
      "text/html": [
       "\n",
       "\n",
       "\n",
       "\n",
       "\n",
       "\n",
       "<iframe srcdoc=\"\n",
       "&lt;!DOCTYPE html&gt;\n",
       "&lt;html lang=&#34;en&#34;&gt;\n",
       "&lt;head&gt;\n",
       "    &lt;meta charset=&#34;UTF-8&#34;&gt;\n",
       "\n",
       "    &lt;script type=&#34;application/javascript&#34; src=&#34;https://cdn.jsdelivr.net/npm/vue@3&#34;&gt;&lt;/script&gt;\n",
       "    &lt;script type=&#34;application/javascript&#34; src=&#34;https://unpkg.com/pytket-circuit-renderer@0.2/dist/pytket-circuit-renderer.umd.js&#34;&gt;&lt;/script&gt;\n",
       "    &lt;link rel=&#34;stylesheet&#34; href=&#34;https://unpkg.com/pytket-circuit-renderer@0.2/dist/pytket-circuit-renderer.css&#34;&gt;\n",
       "&lt;/head&gt;\n",
       "&lt;body&gt;\n",
       "    &lt;div id=&#34;circuit-display-vue-container-71637c31-6547-41d6-8581-e1476eeee778&#34; class=&#34;pytket-circuit-display-container&#34;&gt;\n",
       "        &lt;div style=&#34;display: none&#34;&gt;\n",
       "            &lt;div id=&#34;circuit-json-to-display&#34;&gt;{&#34;bits&#34;: [], &#34;commands&#34;: [{&#34;args&#34;: [[&#34;q&#34;, [0]]], &#34;op&#34;: {&#34;type&#34;: &#34;H&#34;}}, {&#34;args&#34;: [[&#34;q&#34;, [0]], [&#34;q&#34;, [1]]], &#34;op&#34;: {&#34;type&#34;: &#34;CX&#34;}}], &#34;implicit_permutation&#34;: [[[&#34;q&#34;, [0]], [&#34;q&#34;, [0]]], [[&#34;q&#34;, [1]], [&#34;q&#34;, [1]]]], &#34;phase&#34;: &#34;0.0&#34;, &#34;qubits&#34;: [[&#34;q&#34;, [0]], [&#34;q&#34;, [1]]]}&lt;/div&gt;\n",
       "        &lt;/div&gt;\n",
       "        &lt;circuit-display-container :circuit-element-str=&#34;&#39;#circuit-json-to-display&#39;&#34;&gt;&lt;/circuit-display-container&gt;\n",
       "    &lt;/div&gt;\n",
       "\n",
       "    &lt;script type=&#34;application/javascript&#34;&gt;\n",
       "        const { createApp } = Vue;\n",
       "        const circuitDisplayContainer = window[&#34;pytket-circuit-renderer&#34;].default;\n",
       "\n",
       "        // Init variables to be shared between circuit display instances\n",
       "        if (typeof window.pytketCircuitDisplays === &#34;undefined&#34;) {\n",
       "            window.pytketCircuitDisplays = {};\n",
       "        }\n",
       "\n",
       "        const uid = &#34;71637c31-6547-41d6-8581-e1476eeee778&#34;;\n",
       "\n",
       "        // Create the root Vue component\n",
       "        window.pytketCircuitDisplays[uid] = createApp({\n",
       "            delimiters: [&#39;[[#&#39;, &#39;#]]&#39;],\n",
       "            components: { circuitDisplayContainer },\n",
       "        }).mount(&#34;#circuit-display-vue-container-&#34;+uid);\n",
       "    &lt;/script&gt;\n",
       "&lt;/body&gt;\n",
       "&lt;/html&gt;\n",
       "\"\n",
       "        width=\"100%\" height=\"200px\"\n",
       "        style=\"border: none; outline: none; resize: vertical; overflow: auto\"></iframe>\n",
       "\n"
      ],
      "text/plain": [
       "<IPython.core.display.HTML object>"
      ]
     },
     "metadata": {},
     "output_type": "display_data"
    }
   ],
   "source": [
    "from pytket import Circuit\n",
    "from pytket.circuit.display import render_circuit_jupyter\n",
    "\n",
    "circ = Circuit(2)\n",
    "circ.H(0)\n",
    "circ.CX(0,1)\n",
    "\n",
    "render_circuit_jupyter(circ)"
   ]
  },
  {
   "cell_type": "markdown",
   "id": "0df8e2f9",
   "metadata": {},
   "source": [
    "# Access to IonQ\n",
    "\n",
    "IonQ’s trapped ion QPUs are built on a chain of trapped 171Yb+ ions, spatially confined via a microfabricated surface electrode trap within a vacuum chamber. Gates are performed via a two-photon Raman transition using a pair of counter-propagating beams from a mode-locked pulsed laser. This allows for high-quality single and two-qubit transitions and all-to-all connectivity. Initialization is performed via optical pumping, and readout is performed with a combination of a resonant laser, a high numeric aperture lens, and photomultiplier tubes.\n",
    "\n",
    "The device_type, provider and device arguments all come from the device’s ARN as shown on the Amazon Braket page describing the device. In this case, the ARN is 'arn:aws:braket:::device/qpu/ionq/ionQdevice' and the Region: us-east-1\n",
    "\n",
    "The device page also shows whether the device is currently available or when it will next be. Now we need to compile the circuit for the backend device. At a minimum, this involves converting it to the target gate set and placing the qubits. We can control the optimisation level used in compilation, but let’s just use the default, level = 0."
   ]
  },
  {
   "cell_type": "code",
   "execution_count": 12,
   "id": "31096d6b",
   "metadata": {},
   "outputs": [],
   "source": [
    "from braket.aws import AwsSession\n",
    "aws_session = AwsSession(boto_session=boto_session_east)"
   ]
  },
  {
   "cell_type": "code",
   "execution_count": 13,
   "id": "0264d77a",
   "metadata": {},
   "outputs": [],
   "source": [
    "ionq_backend = BraketBackend(\n",
    "device_type='qpu', \n",
    "provider='ionq',\n",
    "device='ionQdevice',\n",
    "aws_session=aws_session\n",
    ")"
   ]
  },
  {
   "cell_type": "code",
   "execution_count": 14,
   "id": "2ca1ab63",
   "metadata": {},
   "outputs": [
    {
     "data": {
      "text/html": [
       "\n",
       "\n",
       "\n",
       "\n",
       "\n",
       "\n",
       "<iframe srcdoc=\"\n",
       "&lt;!DOCTYPE html&gt;\n",
       "&lt;html lang=&#34;en&#34;&gt;\n",
       "&lt;head&gt;\n",
       "    &lt;meta charset=&#34;UTF-8&#34;&gt;\n",
       "\n",
       "    &lt;script type=&#34;application/javascript&#34; src=&#34;https://cdn.jsdelivr.net/npm/vue@3&#34;&gt;&lt;/script&gt;\n",
       "    &lt;script type=&#34;application/javascript&#34; src=&#34;https://unpkg.com/pytket-circuit-renderer@0.2/dist/pytket-circuit-renderer.umd.js&#34;&gt;&lt;/script&gt;\n",
       "    &lt;link rel=&#34;stylesheet&#34; href=&#34;https://unpkg.com/pytket-circuit-renderer@0.2/dist/pytket-circuit-renderer.css&#34;&gt;\n",
       "&lt;/head&gt;\n",
       "&lt;body&gt;\n",
       "    &lt;div id=&#34;circuit-display-vue-container-6051acf5-f608-4eec-bdc3-8a8c69dfa486&#34; class=&#34;pytket-circuit-display-container&#34;&gt;\n",
       "        &lt;div style=&#34;display: none&#34;&gt;\n",
       "            &lt;div id=&#34;circuit-json-to-display&#34;&gt;{&#34;bits&#34;: [], &#34;commands&#34;: [{&#34;args&#34;: [[&#34;node&#34;, [7]]], &#34;op&#34;: {&#34;type&#34;: &#34;H&#34;}}, {&#34;args&#34;: [[&#34;node&#34;, [7]], [&#34;node&#34;, [6]]], &#34;op&#34;: {&#34;type&#34;: &#34;CX&#34;}}], &#34;implicit_permutation&#34;: [[[&#34;node&#34;, [6]], [&#34;node&#34;, [6]]], [[&#34;node&#34;, [7]], [&#34;node&#34;, [7]]]], &#34;phase&#34;: &#34;0.0&#34;, &#34;qubits&#34;: [[&#34;node&#34;, [6]], [&#34;node&#34;, [7]]]}&lt;/div&gt;\n",
       "        &lt;/div&gt;\n",
       "        &lt;circuit-display-container :circuit-element-str=&#34;&#39;#circuit-json-to-display&#39;&#34;&gt;&lt;/circuit-display-container&gt;\n",
       "    &lt;/div&gt;\n",
       "\n",
       "    &lt;script type=&#34;application/javascript&#34;&gt;\n",
       "        const { createApp } = Vue;\n",
       "        const circuitDisplayContainer = window[&#34;pytket-circuit-renderer&#34;].default;\n",
       "\n",
       "        // Init variables to be shared between circuit display instances\n",
       "        if (typeof window.pytketCircuitDisplays === &#34;undefined&#34;) {\n",
       "            window.pytketCircuitDisplays = {};\n",
       "        }\n",
       "\n",
       "        const uid = &#34;6051acf5-f608-4eec-bdc3-8a8c69dfa486&#34;;\n",
       "\n",
       "        // Create the root Vue component\n",
       "        window.pytketCircuitDisplays[uid] = createApp({\n",
       "            delimiters: [&#39;[[#&#39;, &#39;#]]&#39;],\n",
       "            components: { circuitDisplayContainer },\n",
       "        }).mount(&#34;#circuit-display-vue-container-&#34;+uid);\n",
       "    &lt;/script&gt;\n",
       "&lt;/body&gt;\n",
       "&lt;/html&gt;\n",
       "\"\n",
       "        width=\"100%\" height=\"200px\"\n",
       "        style=\"border: none; outline: none; resize: vertical; overflow: auto\"></iframe>\n",
       "\n"
      ],
      "text/plain": [
       "<IPython.core.display.HTML object>"
      ]
     },
     "metadata": {},
     "output_type": "display_data"
    }
   ],
   "source": [
    "ionq_compiled_circ = ionq_backend.get_compiled_circuit(circ,0)   #change 0 to 1 or 2 for additional optimization\n",
    "render_circuit_jupyter(ionq_compiled_circ)"
   ]
  },
  {
   "cell_type": "code",
   "execution_count": 15,
   "id": "22173c2e",
   "metadata": {},
   "outputs": [
    {
     "name": "stdout",
     "output_type": "stream",
     "text": [
      "Circuit depth: 2\n",
      "CX depth:      1\n"
     ]
    }
   ],
   "source": [
    "from pytket.circuit import OpType\n",
    "\n",
    "print('Circuit depth:', ionq_compiled_circ.depth())\n",
    "print('CX depth:     ', ionq_compiled_circ.depth_by_type(OpType.CX))"
   ]
  },
  {
   "cell_type": "markdown",
   "id": "75327278",
   "metadata": {},
   "source": [
    "# Access to OQC - Oxford Quantum Circuits — Lucy\n",
    "\n",
    "Oxford Quantum Circuits (OQC) quantum computers are universal, gate-based machines based on superconducting qubits built using proprietary 'Coaxmon' technology. The Coaxmon design has a scalable, three-dimensional architecture that introduces the qubit control electronics perpendicular to the plane of the qubits. This simplification in the architecture makes it easier to scale to higher qubit numbers than conventional 2D circuits. Lucy, OQC's first quantum computer available on Braket, offers an 8 qubit QPU with a topology of a ring where each qubit is connected to its 2 nearest neighbors.\n",
    "\n",
    "Device ARN\" ' arn:aws:braket:eu-west-2::device/qpu/oqc/Lucy'\n",
    "\n",
    "Region: eu-west-2"
   ]
  },
  {
   "cell_type": "code",
   "execution_count": 16,
   "id": "795ed875",
   "metadata": {},
   "outputs": [],
   "source": [
    "aws_session2 = AwsSession(boto_session=boto_session_eu_west)"
   ]
  },
  {
   "cell_type": "code",
   "execution_count": 17,
   "id": "eb71421e",
   "metadata": {},
   "outputs": [
    {
     "ename": "ValueError",
     "evalue": "QPU 'arn:aws:braket:::device/qpu/oqc/Lucy' not found",
     "output_type": "error",
     "traceback": [
      "\u001b[0;31m---------------------------------------------------------------------------\u001b[0m",
      "\u001b[0;31mValueError\u001b[0m                                Traceback (most recent call last)",
      "\u001b[1;32m/home/yuxuan/Documents/Repos/Womanium_Hackathon_TKET_2022/Access to IonQ, Rigetti and OQC via AWS Braket.ipynb Cell 19\u001b[0m in \u001b[0;36m<cell line: 1>\u001b[0;34m()\u001b[0m\n\u001b[0;32m----> <a href='vscode-notebook-cell://ssh-remote%2Bdell/home/yuxuan/Documents/Repos/Womanium_Hackathon_TKET_2022/Access%20to%20IonQ%2C%20Rigetti%20and%20OQC%20via%20AWS%20Braket.ipynb#X23sdnNjb2RlLXJlbW90ZQ%3D%3D?line=0'>1</a>\u001b[0m oqc_backend \u001b[39m=\u001b[39m BraketBackend(\n\u001b[1;32m      <a href='vscode-notebook-cell://ssh-remote%2Bdell/home/yuxuan/Documents/Repos/Womanium_Hackathon_TKET_2022/Access%20to%20IonQ%2C%20Rigetti%20and%20OQC%20via%20AWS%20Braket.ipynb#X23sdnNjb2RlLXJlbW90ZQ%3D%3D?line=1'>2</a>\u001b[0m device_type\u001b[39m=\u001b[39;49m\u001b[39m'\u001b[39;49m\u001b[39mqpu\u001b[39;49m\u001b[39m'\u001b[39;49m,\n\u001b[1;32m      <a href='vscode-notebook-cell://ssh-remote%2Bdell/home/yuxuan/Documents/Repos/Womanium_Hackathon_TKET_2022/Access%20to%20IonQ%2C%20Rigetti%20and%20OQC%20via%20AWS%20Braket.ipynb#X23sdnNjb2RlLXJlbW90ZQ%3D%3D?line=2'>3</a>\u001b[0m provider\u001b[39m=\u001b[39;49m\u001b[39m'\u001b[39;49m\u001b[39moqc\u001b[39;49m\u001b[39m'\u001b[39;49m,\n\u001b[1;32m      <a href='vscode-notebook-cell://ssh-remote%2Bdell/home/yuxuan/Documents/Repos/Womanium_Hackathon_TKET_2022/Access%20to%20IonQ%2C%20Rigetti%20and%20OQC%20via%20AWS%20Braket.ipynb#X23sdnNjb2RlLXJlbW90ZQ%3D%3D?line=3'>4</a>\u001b[0m device\u001b[39m=\u001b[39;49m\u001b[39m'\u001b[39;49m\u001b[39mLucy\u001b[39;49m\u001b[39m'\u001b[39;49m,\n\u001b[1;32m      <a href='vscode-notebook-cell://ssh-remote%2Bdell/home/yuxuan/Documents/Repos/Womanium_Hackathon_TKET_2022/Access%20to%20IonQ%2C%20Rigetti%20and%20OQC%20via%20AWS%20Braket.ipynb#X23sdnNjb2RlLXJlbW90ZQ%3D%3D?line=4'>5</a>\u001b[0m aws_session\u001b[39m=\u001b[39;49maws_session2\n\u001b[1;32m      <a href='vscode-notebook-cell://ssh-remote%2Bdell/home/yuxuan/Documents/Repos/Womanium_Hackathon_TKET_2022/Access%20to%20IonQ%2C%20Rigetti%20and%20OQC%20via%20AWS%20Braket.ipynb#X23sdnNjb2RlLXJlbW90ZQ%3D%3D?line=5'>6</a>\u001b[0m )\n",
      "File \u001b[0;32m~/.conda/envs/pytket/lib/python3.9/site-packages/pytket/extensions/braket/backends/braket.py:315\u001b[0m, in \u001b[0;36mBraketBackend.__init__\u001b[0;34m(self, local, local_device, device, region, s3_bucket, s3_folder, device_type, provider, aws_session)\u001b[0m\n\u001b[1;32m    313\u001b[0m     \u001b[39mself\u001b[39m\u001b[39m.\u001b[39m_device_type \u001b[39m=\u001b[39m _DeviceType\u001b[39m.\u001b[39mLOCAL\n\u001b[1;32m    314\u001b[0m \u001b[39melse\u001b[39;00m:\n\u001b[0;32m--> 315\u001b[0m     \u001b[39mself\u001b[39m\u001b[39m.\u001b[39m_device \u001b[39m=\u001b[39m AwsDevice(\n\u001b[1;32m    316\u001b[0m         \u001b[39m\"\u001b[39;49m\u001b[39marn:aws:braket:\u001b[39;49m\u001b[39m\"\u001b[39;49m\n\u001b[1;32m    317\u001b[0m         \u001b[39m+\u001b[39;49m region\n\u001b[1;32m    318\u001b[0m         \u001b[39m+\u001b[39;49m \u001b[39m\"\u001b[39;49m\u001b[39m::\u001b[39;49m\u001b[39m\"\u001b[39;49m\n\u001b[1;32m    319\u001b[0m         \u001b[39m+\u001b[39;49m \u001b[39m\"\u001b[39;49m\u001b[39m/\u001b[39;49m\u001b[39m\"\u001b[39;49m\u001b[39m.\u001b[39;49mjoin(\n\u001b[1;32m    320\u001b[0m             [\u001b[39m\"\u001b[39;49m\u001b[39mdevice\u001b[39;49m\u001b[39m\"\u001b[39;49m, device_type, provider, device],\n\u001b[1;32m    321\u001b[0m         ),\n\u001b[1;32m    322\u001b[0m         aws_session\u001b[39m=\u001b[39;49m\u001b[39mself\u001b[39;49m\u001b[39m.\u001b[39;49m_aws_session,\n\u001b[1;32m    323\u001b[0m     )\n\u001b[1;32m    324\u001b[0m     \u001b[39mself\u001b[39m\u001b[39m.\u001b[39m_s3_dest \u001b[39m=\u001b[39m (s3_bucket, s3_folder)\n\u001b[1;32m    325\u001b[0m     aws_device_type \u001b[39m=\u001b[39m \u001b[39mself\u001b[39m\u001b[39m.\u001b[39m_device\u001b[39m.\u001b[39mtype\n",
      "File \u001b[0;32m~/.conda/envs/pytket/lib/python3.9/site-packages/braket/aws/aws_device.py:81\u001b[0m, in \u001b[0;36mAwsDevice.__init__\u001b[0;34m(self, arn, aws_session)\u001b[0m\n\u001b[1;32m     79\u001b[0m \u001b[39mself\u001b[39m\u001b[39m.\u001b[39m_topology_graph \u001b[39m=\u001b[39m \u001b[39mNone\u001b[39;00m\n\u001b[1;32m     80\u001b[0m \u001b[39mself\u001b[39m\u001b[39m.\u001b[39m_type \u001b[39m=\u001b[39m \u001b[39mNone\u001b[39;00m\n\u001b[0;32m---> 81\u001b[0m \u001b[39mself\u001b[39m\u001b[39m.\u001b[39m_aws_session \u001b[39m=\u001b[39m \u001b[39mself\u001b[39;49m\u001b[39m.\u001b[39;49m_get_session_and_initialize(aws_session \u001b[39mor\u001b[39;49;00m AwsSession())\n",
      "File \u001b[0;32m~/.conda/envs/pytket/lib/python3.9/site-packages/braket/aws/aws_device.py:239\u001b[0m, in \u001b[0;36mAwsDevice._get_session_and_initialize\u001b[0;34m(self, session)\u001b[0m\n\u001b[1;32m    234\u001b[0m \u001b[39mdef\u001b[39;00m \u001b[39m_get_session_and_initialize\u001b[39m(\u001b[39mself\u001b[39m, session):\n\u001b[1;32m    235\u001b[0m     device_region \u001b[39m=\u001b[39m AwsDevice\u001b[39m.\u001b[39mget_device_region(\u001b[39mself\u001b[39m\u001b[39m.\u001b[39m_arn)\n\u001b[1;32m    236\u001b[0m     \u001b[39mreturn\u001b[39;00m (\n\u001b[1;32m    237\u001b[0m         \u001b[39mself\u001b[39m\u001b[39m.\u001b[39m_get_regional_device_session(session)\n\u001b[1;32m    238\u001b[0m         \u001b[39mif\u001b[39;00m device_region\n\u001b[0;32m--> 239\u001b[0m         \u001b[39melse\u001b[39;00m \u001b[39mself\u001b[39;49m\u001b[39m.\u001b[39;49m_get_non_regional_device_session(session)\n\u001b[1;32m    240\u001b[0m     )\n",
      "File \u001b[0;32m~/.conda/envs/pytket/lib/python3.9/site-packages/braket/aws/aws_device.py:277\u001b[0m, in \u001b[0;36mAwsDevice._get_non_regional_device_session\u001b[0;34m(self, session)\u001b[0m\n\u001b[1;32m    275\u001b[0m         \u001b[39mif\u001b[39;00m e\u001b[39m.\u001b[39mresponse[\u001b[39m\"\u001b[39m\u001b[39mError\u001b[39m\u001b[39m\"\u001b[39m][\u001b[39m\"\u001b[39m\u001b[39mCode\u001b[39m\u001b[39m\"\u001b[39m] \u001b[39m!=\u001b[39m \u001b[39m\"\u001b[39m\u001b[39mResourceNotFoundException\u001b[39m\u001b[39m\"\u001b[39m:\n\u001b[1;32m    276\u001b[0m             \u001b[39mraise\u001b[39;00m e\n\u001b[0;32m--> 277\u001b[0m \u001b[39mraise\u001b[39;00m \u001b[39mValueError\u001b[39;00m(\u001b[39mf\u001b[39m\u001b[39m\"\u001b[39m\u001b[39mQPU \u001b[39m\u001b[39m'\u001b[39m\u001b[39m{\u001b[39;00m\u001b[39mself\u001b[39m\u001b[39m.\u001b[39m_arn\u001b[39m}\u001b[39;00m\u001b[39m'\u001b[39m\u001b[39m not found\u001b[39m\u001b[39m\"\u001b[39m)\n",
      "\u001b[0;31mValueError\u001b[0m: QPU 'arn:aws:braket:::device/qpu/oqc/Lucy' not found"
     ]
    }
   ],
   "source": [
    "oqc_backend = BraketBackend(\n",
    "device_type='qpu',\n",
    "provider='oqc',\n",
    "device='Lucy',\n",
    "aws_session=aws_session2\n",
    ")"
   ]
  },
  {
   "cell_type": "markdown",
   "id": "070a9dd6",
   "metadata": {},
   "source": [
    "### NOTE: In case Lucy is not available online, you will get the following error message: \"ValueError: QPU 'arn:aws:braket:::device/qpu/oqc/Lucy' not found\""
   ]
  },
  {
   "cell_type": "markdown",
   "id": "a416d5ab",
   "metadata": {},
   "source": [
    "# Access to Rigetti — Aspen-11\n",
    "\n",
    "Rigetti quantum processors are universal, gate-model machines based on tunable superconducting qubits.\n",
    "\n",
    "Rigetti's latest Aspen chips are based on scalable 40-qubit node and feature enhanced readout capabilities that contribute to better overall circuit fidelities independent of depth and width. Further system improvements and device characteristics include a speedup in quantum processing times, fast gate times for multiple entangling gate families, rapid sampling via active register reset, and parametric control.\n",
    "\n",
    "Device ARN\" 'arn:aws:braket:::device/qpu/rigetti/Aspen-11'\n",
    "\n",
    "Region: us-west-1"
   ]
  },
  {
   "cell_type": "code",
   "execution_count": 18,
   "id": "1df8548b",
   "metadata": {},
   "outputs": [],
   "source": [
    "aws_session3 = AwsSession(boto_session=boto_session_west)"
   ]
  },
  {
   "cell_type": "code",
   "execution_count": 19,
   "id": "35e0ab87",
   "metadata": {},
   "outputs": [],
   "source": [
    "aspen11_backend = BraketBackend(\n",
    "device_type='qpu',\n",
    "provider='rigetti',\n",
    "device='Aspen-11',\n",
    "aws_session=aws_session3\n",
    ")"
   ]
  },
  {
   "cell_type": "code",
   "execution_count": 20,
   "id": "9e5da7cb",
   "metadata": {},
   "outputs": [
    {
     "data": {
      "text/html": [
       "\n",
       "\n",
       "\n",
       "\n",
       "\n",
       "\n",
       "<iframe srcdoc=\"\n",
       "&lt;!DOCTYPE html&gt;\n",
       "&lt;html lang=&#34;en&#34;&gt;\n",
       "&lt;head&gt;\n",
       "    &lt;meta charset=&#34;UTF-8&#34;&gt;\n",
       "\n",
       "    &lt;script type=&#34;application/javascript&#34; src=&#34;https://cdn.jsdelivr.net/npm/vue@3&#34;&gt;&lt;/script&gt;\n",
       "    &lt;script type=&#34;application/javascript&#34; src=&#34;https://unpkg.com/pytket-circuit-renderer@0.2/dist/pytket-circuit-renderer.umd.js&#34;&gt;&lt;/script&gt;\n",
       "    &lt;link rel=&#34;stylesheet&#34; href=&#34;https://unpkg.com/pytket-circuit-renderer@0.2/dist/pytket-circuit-renderer.css&#34;&gt;\n",
       "&lt;/head&gt;\n",
       "&lt;body&gt;\n",
       "    &lt;div id=&#34;circuit-display-vue-container-48db2130-4573-4f5c-90f4-ed49d0c5f4b8&#34; class=&#34;pytket-circuit-display-container&#34;&gt;\n",
       "        &lt;div style=&#34;display: none&#34;&gt;\n",
       "            &lt;div id=&#34;circuit-json-to-display&#34;&gt;{&#34;bits&#34;: [], &#34;commands&#34;: [{&#34;args&#34;: [[&#34;node&#34;, [14]]], &#34;op&#34;: {&#34;type&#34;: &#34;H&#34;}}, {&#34;args&#34;: [[&#34;node&#34;, [14]], [&#34;node&#34;, [15]]], &#34;op&#34;: {&#34;type&#34;: &#34;CX&#34;}}], &#34;implicit_permutation&#34;: [[[&#34;node&#34;, [14]], [&#34;node&#34;, [14]]], [[&#34;node&#34;, [15]], [&#34;node&#34;, [15]]]], &#34;phase&#34;: &#34;0.0&#34;, &#34;qubits&#34;: [[&#34;node&#34;, [14]], [&#34;node&#34;, [15]]]}&lt;/div&gt;\n",
       "        &lt;/div&gt;\n",
       "        &lt;circuit-display-container :circuit-element-str=&#34;&#39;#circuit-json-to-display&#39;&#34;&gt;&lt;/circuit-display-container&gt;\n",
       "    &lt;/div&gt;\n",
       "\n",
       "    &lt;script type=&#34;application/javascript&#34;&gt;\n",
       "        const { createApp } = Vue;\n",
       "        const circuitDisplayContainer = window[&#34;pytket-circuit-renderer&#34;].default;\n",
       "\n",
       "        // Init variables to be shared between circuit display instances\n",
       "        if (typeof window.pytketCircuitDisplays === &#34;undefined&#34;) {\n",
       "            window.pytketCircuitDisplays = {};\n",
       "        }\n",
       "\n",
       "        const uid = &#34;48db2130-4573-4f5c-90f4-ed49d0c5f4b8&#34;;\n",
       "\n",
       "        // Create the root Vue component\n",
       "        window.pytketCircuitDisplays[uid] = createApp({\n",
       "            delimiters: [&#39;[[#&#39;, &#39;#]]&#39;],\n",
       "            components: { circuitDisplayContainer },\n",
       "        }).mount(&#34;#circuit-display-vue-container-&#34;+uid);\n",
       "    &lt;/script&gt;\n",
       "&lt;/body&gt;\n",
       "&lt;/html&gt;\n",
       "\"\n",
       "        width=\"100%\" height=\"200px\"\n",
       "        style=\"border: none; outline: none; resize: vertical; overflow: auto\"></iframe>\n",
       "\n"
      ],
      "text/plain": [
       "<IPython.core.display.HTML object>"
      ]
     },
     "metadata": {},
     "output_type": "display_data"
    }
   ],
   "source": [
    "aspen11_compiled_circ = aspen11_backend.get_compiled_circuit(circ,0)\n",
    "render_circuit_jupyter(aspen11_compiled_circ)"
   ]
  },
  {
   "cell_type": "code",
   "execution_count": 21,
   "id": "52d9f69d",
   "metadata": {},
   "outputs": [
    {
     "name": "stdout",
     "output_type": "stream",
     "text": [
      "Circuit depth: 2\n",
      "CX depth:      1\n"
     ]
    }
   ],
   "source": [
    "from pytket.circuit import OpType\n",
    "\n",
    "print('Circuit depth:', aspen11_compiled_circ.depth())\n",
    "print('CX depth:     ', aspen11_compiled_circ.depth_by_type(OpType.CX))"
   ]
  },
  {
   "cell_type": "markdown",
   "id": "e24023fa",
   "metadata": {},
   "source": [
    "# Access to Rigetti -M-1\n",
    "\n",
    "Rigetti's latest Aspen-M processor is based on scalable multi-chip technology, and features enhanced readout capabilities that contribute to better overall circuit fidelities independent of depth and width. Further system improvements and device characteristics include a speedup in quantum processing times, fast gate times for multiple entangling gate families, rapid sampling via active register reset, and parametric control.\n",
    "\n",
    "Device ARN\" 'arn:aws:braket:us-west-1::device/qpu/rigetti/Aspen-M-1'\n",
    "\n",
    "Region: us-west-1"
   ]
  },
  {
   "cell_type": "code",
   "execution_count": 22,
   "id": "4db7cb96",
   "metadata": {},
   "outputs": [
    {
     "ename": "ValueError",
     "evalue": "QPU 'arn:aws:braket:::device/qpu/rigetti/Aspen-M-1' not found",
     "output_type": "error",
     "traceback": [
      "\u001b[0;31m---------------------------------------------------------------------------\u001b[0m",
      "\u001b[0;31mValueError\u001b[0m                                Traceback (most recent call last)",
      "\u001b[1;32m/home/yuxuan/Documents/Repos/Womanium_Hackathon_TKET_2022/Access to IonQ, Rigetti and OQC via AWS Braket.ipynb Cell 27\u001b[0m in \u001b[0;36m<cell line: 1>\u001b[0;34m()\u001b[0m\n\u001b[0;32m----> <a href='vscode-notebook-cell://ssh-remote%2Bdell/home/yuxuan/Documents/Repos/Womanium_Hackathon_TKET_2022/Access%20to%20IonQ%2C%20Rigetti%20and%20OQC%20via%20AWS%20Braket.ipynb#X34sdnNjb2RlLXJlbW90ZQ%3D%3D?line=0'>1</a>\u001b[0m aspen11_backend \u001b[39m=\u001b[39m BraketBackend(\n\u001b[1;32m      <a href='vscode-notebook-cell://ssh-remote%2Bdell/home/yuxuan/Documents/Repos/Womanium_Hackathon_TKET_2022/Access%20to%20IonQ%2C%20Rigetti%20and%20OQC%20via%20AWS%20Braket.ipynb#X34sdnNjb2RlLXJlbW90ZQ%3D%3D?line=1'>2</a>\u001b[0m device_type\u001b[39m=\u001b[39;49m\u001b[39m'\u001b[39;49m\u001b[39mqpu\u001b[39;49m\u001b[39m'\u001b[39;49m,\n\u001b[1;32m      <a href='vscode-notebook-cell://ssh-remote%2Bdell/home/yuxuan/Documents/Repos/Womanium_Hackathon_TKET_2022/Access%20to%20IonQ%2C%20Rigetti%20and%20OQC%20via%20AWS%20Braket.ipynb#X34sdnNjb2RlLXJlbW90ZQ%3D%3D?line=2'>3</a>\u001b[0m provider\u001b[39m=\u001b[39;49m\u001b[39m'\u001b[39;49m\u001b[39mrigetti\u001b[39;49m\u001b[39m'\u001b[39;49m,\n\u001b[1;32m      <a href='vscode-notebook-cell://ssh-remote%2Bdell/home/yuxuan/Documents/Repos/Womanium_Hackathon_TKET_2022/Access%20to%20IonQ%2C%20Rigetti%20and%20OQC%20via%20AWS%20Braket.ipynb#X34sdnNjb2RlLXJlbW90ZQ%3D%3D?line=3'>4</a>\u001b[0m device\u001b[39m=\u001b[39;49m\u001b[39m'\u001b[39;49m\u001b[39mAspen-M-1\u001b[39;49m\u001b[39m'\u001b[39;49m,\n\u001b[1;32m      <a href='vscode-notebook-cell://ssh-remote%2Bdell/home/yuxuan/Documents/Repos/Womanium_Hackathon_TKET_2022/Access%20to%20IonQ%2C%20Rigetti%20and%20OQC%20via%20AWS%20Braket.ipynb#X34sdnNjb2RlLXJlbW90ZQ%3D%3D?line=4'>5</a>\u001b[0m aws_session\u001b[39m=\u001b[39;49maws_session3\n\u001b[1;32m      <a href='vscode-notebook-cell://ssh-remote%2Bdell/home/yuxuan/Documents/Repos/Womanium_Hackathon_TKET_2022/Access%20to%20IonQ%2C%20Rigetti%20and%20OQC%20via%20AWS%20Braket.ipynb#X34sdnNjb2RlLXJlbW90ZQ%3D%3D?line=5'>6</a>\u001b[0m )\n",
      "File \u001b[0;32m~/.conda/envs/pytket/lib/python3.9/site-packages/pytket/extensions/braket/backends/braket.py:315\u001b[0m, in \u001b[0;36mBraketBackend.__init__\u001b[0;34m(self, local, local_device, device, region, s3_bucket, s3_folder, device_type, provider, aws_session)\u001b[0m\n\u001b[1;32m    313\u001b[0m     \u001b[39mself\u001b[39m\u001b[39m.\u001b[39m_device_type \u001b[39m=\u001b[39m _DeviceType\u001b[39m.\u001b[39mLOCAL\n\u001b[1;32m    314\u001b[0m \u001b[39melse\u001b[39;00m:\n\u001b[0;32m--> 315\u001b[0m     \u001b[39mself\u001b[39m\u001b[39m.\u001b[39m_device \u001b[39m=\u001b[39m AwsDevice(\n\u001b[1;32m    316\u001b[0m         \u001b[39m\"\u001b[39;49m\u001b[39marn:aws:braket:\u001b[39;49m\u001b[39m\"\u001b[39;49m\n\u001b[1;32m    317\u001b[0m         \u001b[39m+\u001b[39;49m region\n\u001b[1;32m    318\u001b[0m         \u001b[39m+\u001b[39;49m \u001b[39m\"\u001b[39;49m\u001b[39m::\u001b[39;49m\u001b[39m\"\u001b[39;49m\n\u001b[1;32m    319\u001b[0m         \u001b[39m+\u001b[39;49m \u001b[39m\"\u001b[39;49m\u001b[39m/\u001b[39;49m\u001b[39m\"\u001b[39;49m\u001b[39m.\u001b[39;49mjoin(\n\u001b[1;32m    320\u001b[0m             [\u001b[39m\"\u001b[39;49m\u001b[39mdevice\u001b[39;49m\u001b[39m\"\u001b[39;49m, device_type, provider, device],\n\u001b[1;32m    321\u001b[0m         ),\n\u001b[1;32m    322\u001b[0m         aws_session\u001b[39m=\u001b[39;49m\u001b[39mself\u001b[39;49m\u001b[39m.\u001b[39;49m_aws_session,\n\u001b[1;32m    323\u001b[0m     )\n\u001b[1;32m    324\u001b[0m     \u001b[39mself\u001b[39m\u001b[39m.\u001b[39m_s3_dest \u001b[39m=\u001b[39m (s3_bucket, s3_folder)\n\u001b[1;32m    325\u001b[0m     aws_device_type \u001b[39m=\u001b[39m \u001b[39mself\u001b[39m\u001b[39m.\u001b[39m_device\u001b[39m.\u001b[39mtype\n",
      "File \u001b[0;32m~/.conda/envs/pytket/lib/python3.9/site-packages/braket/aws/aws_device.py:81\u001b[0m, in \u001b[0;36mAwsDevice.__init__\u001b[0;34m(self, arn, aws_session)\u001b[0m\n\u001b[1;32m     79\u001b[0m \u001b[39mself\u001b[39m\u001b[39m.\u001b[39m_topology_graph \u001b[39m=\u001b[39m \u001b[39mNone\u001b[39;00m\n\u001b[1;32m     80\u001b[0m \u001b[39mself\u001b[39m\u001b[39m.\u001b[39m_type \u001b[39m=\u001b[39m \u001b[39mNone\u001b[39;00m\n\u001b[0;32m---> 81\u001b[0m \u001b[39mself\u001b[39m\u001b[39m.\u001b[39m_aws_session \u001b[39m=\u001b[39m \u001b[39mself\u001b[39;49m\u001b[39m.\u001b[39;49m_get_session_and_initialize(aws_session \u001b[39mor\u001b[39;49;00m AwsSession())\n",
      "File \u001b[0;32m~/.conda/envs/pytket/lib/python3.9/site-packages/braket/aws/aws_device.py:239\u001b[0m, in \u001b[0;36mAwsDevice._get_session_and_initialize\u001b[0;34m(self, session)\u001b[0m\n\u001b[1;32m    234\u001b[0m \u001b[39mdef\u001b[39;00m \u001b[39m_get_session_and_initialize\u001b[39m(\u001b[39mself\u001b[39m, session):\n\u001b[1;32m    235\u001b[0m     device_region \u001b[39m=\u001b[39m AwsDevice\u001b[39m.\u001b[39mget_device_region(\u001b[39mself\u001b[39m\u001b[39m.\u001b[39m_arn)\n\u001b[1;32m    236\u001b[0m     \u001b[39mreturn\u001b[39;00m (\n\u001b[1;32m    237\u001b[0m         \u001b[39mself\u001b[39m\u001b[39m.\u001b[39m_get_regional_device_session(session)\n\u001b[1;32m    238\u001b[0m         \u001b[39mif\u001b[39;00m device_region\n\u001b[0;32m--> 239\u001b[0m         \u001b[39melse\u001b[39;00m \u001b[39mself\u001b[39;49m\u001b[39m.\u001b[39;49m_get_non_regional_device_session(session)\n\u001b[1;32m    240\u001b[0m     )\n",
      "File \u001b[0;32m~/.conda/envs/pytket/lib/python3.9/site-packages/braket/aws/aws_device.py:277\u001b[0m, in \u001b[0;36mAwsDevice._get_non_regional_device_session\u001b[0;34m(self, session)\u001b[0m\n\u001b[1;32m    275\u001b[0m         \u001b[39mif\u001b[39;00m e\u001b[39m.\u001b[39mresponse[\u001b[39m\"\u001b[39m\u001b[39mError\u001b[39m\u001b[39m\"\u001b[39m][\u001b[39m\"\u001b[39m\u001b[39mCode\u001b[39m\u001b[39m\"\u001b[39m] \u001b[39m!=\u001b[39m \u001b[39m\"\u001b[39m\u001b[39mResourceNotFoundException\u001b[39m\u001b[39m\"\u001b[39m:\n\u001b[1;32m    276\u001b[0m             \u001b[39mraise\u001b[39;00m e\n\u001b[0;32m--> 277\u001b[0m \u001b[39mraise\u001b[39;00m \u001b[39mValueError\u001b[39;00m(\u001b[39mf\u001b[39m\u001b[39m\"\u001b[39m\u001b[39mQPU \u001b[39m\u001b[39m'\u001b[39m\u001b[39m{\u001b[39;00m\u001b[39mself\u001b[39m\u001b[39m.\u001b[39m_arn\u001b[39m}\u001b[39;00m\u001b[39m'\u001b[39m\u001b[39m not found\u001b[39m\u001b[39m\"\u001b[39m)\n",
      "\u001b[0;31mValueError\u001b[0m: QPU 'arn:aws:braket:::device/qpu/rigetti/Aspen-M-1' not found"
     ]
    }
   ],
   "source": [
    "aspen11_backend = BraketBackend(\n",
    "device_type='qpu',\n",
    "provider='rigetti',\n",
    "device='Aspen-M-1',\n",
    "aws_session=aws_session3\n",
    ")"
   ]
  },
  {
   "cell_type": "markdown",
   "id": "79392cbb",
   "metadata": {},
   "source": [
    "### NOTE: In case Lucy is not available online, you will get the following error message: \"ValueError: QPU 'arn:aws:braket:::device/qpu/rigetti/Aspen-M-1' not found"
   ]
  }
 ],
 "metadata": {
  "kernelspec": {
   "display_name": "Python 3.9.12 ('pytket')",
   "language": "python",
   "name": "python3"
  },
  "language_info": {
   "codemirror_mode": {
    "name": "ipython",
    "version": 3
   },
   "file_extension": ".py",
   "mimetype": "text/x-python",
   "name": "python",
   "nbconvert_exporter": "python",
   "pygments_lexer": "ipython3",
   "version": "3.9.12"
  },
  "vscode": {
   "interpreter": {
    "hash": "7a70fc8171ca5a2e2f8809056377270baecb2bd1923ce16da57c5fab954dcfe4"
   }
  }
 },
 "nbformat": 4,
 "nbformat_minor": 5
}
